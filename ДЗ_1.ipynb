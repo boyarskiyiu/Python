{
  "nbformat": 4,
  "nbformat_minor": 0,
  "metadata": {
    "colab": {
      "name": "ДЗ 1.ipynb",
      "provenance": [],
      "authorship_tag": "ABX9TyMtQ9Mv7OEN8KuMugf8L1mA",
      "include_colab_link": true
    },
    "kernelspec": {
      "name": "python3",
      "display_name": "Python 3"
    },
    "language_info": {
      "name": "python"
    }
  },
  "cells": [
    {
      "cell_type": "markdown",
      "metadata": {
        "id": "view-in-github",
        "colab_type": "text"
      },
      "source": [
        "<a href=\"https://colab.research.google.com/github/boyarskiyiu/Python/blob/main/%D0%94%D0%97_1.ipynb\" target=\"_parent\"><img src=\"https://colab.research.google.com/assets/colab-badge.svg\" alt=\"Open In Colab\"/></a>"
      ]
    },
    {
      "cell_type": "code",
      "metadata": {
        "id": "9X-9fREs0Ola"
      },
      "source": [
        "f = input(\"введите данные: \")\n",
        "print(\"вот эти данные\",f)\n"
      ],
      "execution_count": null,
      "outputs": []
    },
    {
      "cell_type": "code",
      "metadata": {
        "id": "XbgHT5DK0al2"
      },
      "source": [
        "ts = int(input(\"введите время в секундах : \"))\n",
        "hour = int(ts / 3600)\n",
        "ts = ts - hour * 3600\n",
        "mint = int(ts / 60)\n",
        "ts = ts - mint * 60\n",
        "second = int(ts)\n",
        "print(\"время:\", hour, \":\", mint, \":\", second)"
      ],
      "execution_count": null,
      "outputs": []
    },
    {
      "cell_type": "code",
      "metadata": {
        "colab": {
          "base_uri": "https://localhost:8080/"
        },
        "id": "atT6Ha0V-Rin",
        "outputId": "0b981acf-09cb-401a-8e0a-7a5d11211b89"
      },
      "source": [
        "n = int(input(\"введи однозначное число n: \"))\n",
        "nn = str(n) + str(n)\n",
        "nnn = str(n) + str(n) + str(n)\n",
        "print(\"Сумма чисел n + nn + nnn равна\", int(nnn) + int(nn) + int(n))"
      ],
      "execution_count": null,
      "outputs": [
        {
          "output_type": "stream",
          "name": "stdout",
          "text": [
            "введи однозначное число n: 3\n",
            "Сумма чисел n + nn + nnn равна 369\n"
          ]
        }
      ]
    },
    {
      "cell_type": "code",
      "metadata": {
        "colab": {
          "base_uri": "https://localhost:8080/"
        },
        "id": "uSvamlRI_Fxw",
        "outputId": "d6232cdc-9019-448d-8147-657e16fb369a"
      },
      "source": [
        "n = int(input(\"введите целое положительное число : \"))\n",
        "maxn=0\n",
        "while n % 10 >= maxn:\n",
        "  maxn = n % 10\n",
        "  n = n // 10\n",
        "print(\"максимальная цифра в числе -\", maxn)\n",
        "\n",
        "nn = input(\"введите целое положительное число : \")\n",
        "nn = list(nn)\n",
        "maxn = max(nn)\n",
        "print(\"максимальная цифра в числе -\", maxn)"
      ],
      "execution_count": null,
      "outputs": [
        {
          "output_type": "stream",
          "name": "stdout",
          "text": [
            "введите целое положительное число : 5666658\n",
            "максимальная цифра в числе - 8\n",
            "введите целое положительное число : 52225898\n",
            "максимальная цифра в числе - 9\n"
          ]
        }
      ]
    },
    {
      "cell_type": "code",
      "metadata": {
        "id": "F8ox8sO3_L9x"
      },
      "source": [
        "s = int(input(\"введите прибыль : \"))\n",
        "n = int(input(\"введите расходы : \"))\n",
        "a = s - n\n",
        "if a > 0:\n",
        "    print(\"предприятие работает с прибылью :\", a)\n",
        "    print(\"рентабельность :\", a / s)\n",
        "    v = int(input('Количество сотрудников предприятия :'))\n",
        "    print(\"Прибыль фирмы на одного сотрудника : \", a / v)\n",
        "else:\n",
        "    print(\"предприятие рабортает в убыток : \", a)"
      ],
      "execution_count": null,
      "outputs": []
    },
    {
      "cell_type": "code",
      "metadata": {
        "colab": {
          "base_uri": "https://localhost:8080/"
        },
        "id": "Y1Uqi2uH_VnN",
        "outputId": "83f12b0e-37b5-4a40-e9fc-3659b2d41b66"
      },
      "source": [
        "a = int(input(\"введите результат в первый день, км- \"))\n",
        "b = int(input(\"Введите требуемый результат, км - \"))\n",
        "n = 1\n",
        "while a < b:\n",
        "    n = n + 1\n",
        "    a = a+a * 0.1\n",
        "print(\"Результат не менее\",b,\"км, будет достигнут на\",n,\"день\")"
      ],
      "execution_count": null,
      "outputs": [
        {
          "output_type": "stream",
          "name": "stdout",
          "text": [
            "введите результат в первый день, км- 3\n",
            "Введите требуемый результат, км - 5\n",
            "Результат не менее 5 км, будет достигнут на 7 день\n"
          ]
        }
      ]
    }
  ]
}